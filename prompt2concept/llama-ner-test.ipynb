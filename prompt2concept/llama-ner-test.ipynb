{
 "cells": [
  {
   "metadata": {
    "ExecuteTime": {
     "end_time": "2024-04-12T10:38:12.191959Z",
     "start_time": "2024-04-12T10:38:11.123348Z"
    }
   },
   "cell_type": "code",
   "source": [
    "import os\n",
    "\n",
    "import torch\n",
    "device = torch.device(\"cuda:7\")"
   ],
   "id": "e604ff8c7e885c5c",
   "outputs": [],
   "execution_count": 1
  },
  {
   "metadata": {
    "ExecuteTime": {
     "end_time": "2024-04-12T10:38:19.712530Z",
     "start_time": "2024-04-12T10:38:12.624670Z"
    }
   },
   "cell_type": "code",
   "source": [
    "import os\n",
    "os.chdir(\"forget-from-image\")\n",
    "from prompt2concept.ner_utils import StyleExtractor\n",
    "styleExtractor = StyleExtractor(device = device)"
   ],
   "id": "d24bc27c8fe8fb0e",
   "outputs": [
    {
     "data": {
      "text/plain": [
       "Loading checkpoint shards:   0%|          | 0/2 [00:00<?, ?it/s]"
      ],
      "application/vnd.jupyter.widget-view+json": {
       "version_major": 2,
       "version_minor": 0,
       "model_id": "2a9b9a57129e471a9b64bfa5bbe45b00"
      }
     },
     "metadata": {},
     "output_type": "display_data"
    }
   ],
   "execution_count": 2
  },
  {
   "metadata": {
    "ExecuteTime": {
     "end_time": "2024-04-12T10:38:43.472069Z",
     "start_time": "2024-04-12T10:38:42.165954Z"
    }
   },
   "cell_type": "code",
   "source": [
    "raw_prompts = \"Mode fast: a couple of anime characters standing next to each other, howl’s moving castle, howl's moving castle, howls moving castle, moving castle, style in ghibli anime, style in ghibli anime style, ghibli animated film, miyazaki film, miyazaki's animated film, ghibli moebius, ghibli studio anime style, ghibli film, by Miyazaki\"\n",
    "styleExtractor.prompt2concepts(raw_prompts)"
   ],
   "id": "598af00db4c65000",
   "outputs": [
    {
     "data": {
      "text/plain": [
       "{'concepts': ['edge anime',\n",
       "  'ghibli anime',\n",
       "  'miyazaki film',\n",
       "  'moebius',\n",
       "  'ghibli studio'],\n",
       " 'concepts_index': [(158, 169), (223, 235), (271, 277), (280, 292)]}"
      ]
     },
     "execution_count": 4,
     "metadata": {},
     "output_type": "execute_result"
    }
   ],
   "execution_count": 4
  }
 ],
 "metadata": {
  "kernelspec": {
   "display_name": "nlp",
   "language": "python",
   "name": "nlp"
  },
  "language_info": {
   "codemirror_mode": {
    "name": "ipython",
    "version": 2
   },
   "file_extension": ".py",
   "mimetype": "text/x-python",
   "name": "python",
   "nbconvert_exporter": "python",
   "pygments_lexer": "ipython2",
   "version": "2.7.6"
  }
 },
 "nbformat": 4,
 "nbformat_minor": 5
}
